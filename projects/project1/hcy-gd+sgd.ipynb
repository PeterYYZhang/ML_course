{
 "cells": [
  {
   "cell_type": "code",
   "execution_count": 2,
   "metadata": {
    "colab": {
     "base_uri": "https://localhost:8080/"
    },
    "executionInfo": {
     "elapsed": 15,
     "status": "ok",
     "timestamp": 1666369975453,
     "user": {
      "displayName": "Yitao Xu",
      "userId": "08412486466278411597"
     },
     "user_tz": -120
    },
    "id": "G67AsBmfHrj_",
    "outputId": "6ca13ee2-ec7e-4286-bb51-e701aeff20eb"
   },
   "outputs": [
    {
     "name": "stdout",
     "output_type": "stream",
     "text": [
      "/content/drive/MyDrive/EPFL_course_project/MLCS433/ML-Project1\n"
     ]
    }
   ],
   "source": [
    "%cd /content/drive/MyDrive/EPFL_course_project/MLCS433/ML-Project1/"
   ]
  },
  {
   "cell_type": "code",
   "execution_count": 2,
   "metadata": {
    "executionInfo": {
     "elapsed": 447,
     "status": "ok",
     "timestamp": 1666369975891,
     "user": {
      "displayName": "Yitao Xu",
      "userId": "08412486466278411597"
     },
     "user_tz": -120
    },
    "id": "GJeFp3FYIgLv"
   },
   "outputs": [],
   "source": [
    "import numpy as np\n",
    "import data_utils\n",
    "import implementations\n",
    "%load_ext autoreload\n",
    "%autoreload 2"
   ]
  },
  {
   "cell_type": "code",
   "execution_count": 3,
   "metadata": {
    "colab": {
     "base_uri": "https://localhost:8080/"
    },
    "executionInfo": {
     "elapsed": 14020,
     "status": "ok",
     "timestamp": 1666369989909,
     "user": {
      "displayName": "Yitao Xu",
      "userId": "08412486466278411597"
     },
     "user_tz": -120
    },
    "id": "VYLUX1wsmWDM",
    "outputId": "acb574c2-15aa-4408-e4b1-baf4d42b7032"
   },
   "outputs": [
    {
     "data": {
      "text/plain": [
       "((250000, 30), (250000,))"
      ]
     },
     "execution_count": 3,
     "metadata": {},
     "output_type": "execute_result"
    }
   ],
   "source": [
    "train_data, train_label = data_utils.load_data('Data/train.csv')\n",
    "train_data.shape, train_label.shape"
   ]
  },
  {
   "cell_type": "code",
   "execution_count": 4,
   "metadata": {
    "executionInfo": {
     "elapsed": 21,
     "status": "ok",
     "timestamp": 1666369989911,
     "user": {
      "displayName": "Yitao Xu",
      "userId": "08412486466278411597"
     },
     "user_tz": -120
    },
    "id": "7W8Ec61qYtNR"
   },
   "outputs": [],
   "source": [
    "def cross_validation(train_data, train_label, k_fold, eval_func, input_dict):\n",
    "  data_num = train_data.shape[0]\n",
    "  data_dim = train_data.shape[1]\n",
    "  fold_part_idx = data_utils.k_fold(data_num, k_fold)\n",
    "\n",
    "  loss_list = []\n",
    "  acc_list = []\n",
    "  for k in range(k_fold): \n",
    "    cur_train_idx = np.concatenate([fold_part_idx[:k, :], fold_part_idx[k+1:, :]], axis = 0)\n",
    "    cur_train_idx = cur_train_idx.flatten()\n",
    "    cur_test_idx = fold_part_idx[k, :]\n",
    "    x_tr = train_data[cur_train_idx, :]\n",
    "    x_te = train_data[cur_test_idx, :]\n",
    "    y_tr = train_label[cur_train_idx]\n",
    "    y_te = train_label[cur_test_idx]\n",
    "\n",
    "    w, loss = eval_func(y_tr, x_tr,  **input_dict)\n",
    "    _, train_acc = implementations.compute_statistics_all(y_tr, x_tr, w, func_type = input_dict['func_type'])\n",
    "    test_loss, test_acc = implementations.compute_statistics_all(y_te, x_te, w, func_type = input_dict['func_type'])\n",
    "    loss_list.append(test_loss)\n",
    "    acc_list.append(test_acc)\n",
    "    print(test_acc)\n",
    "  return np.mean(loss_list), np.mean(acc_list)"
   ]
  },
  {
   "cell_type": "code",
   "execution_count": 5,
   "metadata": {
    "executionInfo": {
     "elapsed": 19,
     "status": "ok",
     "timestamp": 1666369989913,
     "user": {
      "displayName": "Yitao Xu",
      "userId": "08412486466278411597"
     },
     "user_tz": -120
    },
    "id": "1jzOc5FGi4T-"
   },
   "outputs": [],
   "source": [
    "group_num = 2\n",
    "k_fold_num = 5"
   ]
  },
  {
   "cell_type": "code",
   "execution_count": 23,
   "metadata": {
    "colab": {
     "base_uri": "https://localhost:8080/",
     "height": 468
    },
    "executionInfo": {
     "elapsed": 38439,
     "status": "error",
     "timestamp": 1666370136299,
     "user": {
      "displayName": "Yitao Xu",
      "userId": "08412486466278411597"
     },
     "user_tz": -120
    },
    "id": "T2cd4oDSYsyW",
    "outputId": "4bf057ec-6e5a-4da6-bc0f-aa71f44c8970",
    "scrolled": true
   },
   "outputs": [
    {
     "name": "stdout",
     "output_type": "stream",
     "text": [
      "0.8305474927434692\n",
      "0.8258432589330398\n",
      "0.8112801521369233\n",
      "0.8223401060954859\n",
      "0.8291462316084476\n",
      "Found a better scheme.                       Clean:1,                       Poly:1,                       Degree:3,                       Normalize: 1,                       all_poly:True,                       gamma:0.016,                      iteration:10000,                      Acc:0.8238314483034731\n",
      "0.8337003302972675\n",
      "0.8296466820138124\n",
      "0.8079271344209789\n",
      "0.8239915924331899\n",
      "0.8298969072164949\n",
      "Found a better scheme.                       Clean:1,                       Poly:1,                       Degree:4,                       Normalize: 1,                       all_poly:True,                       gamma:0.016,                      iteration:10000,                      Acc:0.8250325292763486\n",
      "0.8337003302972675\n",
      "0.8285456911220098\n",
      "0.80307276548894\n",
      "0.8239915924331899\n",
      "0.8302472225002502\n",
      "0.8325993394054649\n",
      "0.8271444299869883\n",
      "0.7964167750975878\n",
      "0.8247422680412371\n"
     ]
    },
    {
     "ename": "KeyboardInterrupt",
     "evalue": "",
     "output_type": "error",
     "traceback": [
      "\u001b[1;31m---------------------------------------------------------------------------\u001b[0m",
      "\u001b[1;31mKeyboardInterrupt\u001b[0m                         Traceback (most recent call last)",
      "\u001b[1;32m<ipython-input-23-95bf6c90b461>\u001b[0m in \u001b[0;36m<module>\u001b[1;34m\u001b[0m\n\u001b[0;32m     35\u001b[0m                         'func_type':'linear'}\n\u001b[0;32m     36\u001b[0m \u001b[1;33m\u001b[0m\u001b[0m\n\u001b[1;32m---> 37\u001b[1;33m                 \u001b[0mloss\u001b[0m\u001b[1;33m,\u001b[0m \u001b[0macc\u001b[0m \u001b[1;33m=\u001b[0m \u001b[0mcross_validation\u001b[0m\u001b[1;33m(\u001b[0m\u001b[0mgroup_x\u001b[0m\u001b[1;33m,\u001b[0m \u001b[0mgroup_label\u001b[0m\u001b[1;33m,\u001b[0m \u001b[0mk_fold_num\u001b[0m\u001b[1;33m,\u001b[0m \u001b[0mtest_func\u001b[0m\u001b[1;33m,\u001b[0m \u001b[0minput_dict\u001b[0m\u001b[1;33m)\u001b[0m\u001b[1;33m\u001b[0m\u001b[1;33m\u001b[0m\u001b[0m\n\u001b[0m\u001b[0;32m     38\u001b[0m                 \u001b[1;32mif\u001b[0m\u001b[1;33m(\u001b[0m\u001b[0macc\u001b[0m \u001b[1;33m>\u001b[0m \u001b[0mmax_acc\u001b[0m\u001b[1;33m)\u001b[0m\u001b[1;33m:\u001b[0m\u001b[1;33m\u001b[0m\u001b[1;33m\u001b[0m\u001b[0m\n\u001b[0;32m     39\u001b[0m                   print(f'Found a better scheme. \\\n",
      "\u001b[1;32m<ipython-input-4-c2d70621cbfb>\u001b[0m in \u001b[0;36mcross_validation\u001b[1;34m(train_data, train_label, k_fold, eval_func, input_dict)\u001b[0m\n\u001b[0;32m     15\u001b[0m     \u001b[0my_te\u001b[0m \u001b[1;33m=\u001b[0m \u001b[0mtrain_label\u001b[0m\u001b[1;33m[\u001b[0m\u001b[0mcur_test_idx\u001b[0m\u001b[1;33m]\u001b[0m\u001b[1;33m\u001b[0m\u001b[1;33m\u001b[0m\u001b[0m\n\u001b[0;32m     16\u001b[0m \u001b[1;33m\u001b[0m\u001b[0m\n\u001b[1;32m---> 17\u001b[1;33m     \u001b[0mw\u001b[0m\u001b[1;33m,\u001b[0m \u001b[0mloss\u001b[0m \u001b[1;33m=\u001b[0m \u001b[0meval_func\u001b[0m\u001b[1;33m(\u001b[0m\u001b[0my_tr\u001b[0m\u001b[1;33m,\u001b[0m \u001b[0mx_tr\u001b[0m\u001b[1;33m,\u001b[0m  \u001b[1;33m**\u001b[0m\u001b[0minput_dict\u001b[0m\u001b[1;33m)\u001b[0m\u001b[1;33m\u001b[0m\u001b[1;33m\u001b[0m\u001b[0m\n\u001b[0m\u001b[0;32m     18\u001b[0m     \u001b[0m_\u001b[0m\u001b[1;33m,\u001b[0m \u001b[0mtrain_acc\u001b[0m \u001b[1;33m=\u001b[0m \u001b[0mimplementations\u001b[0m\u001b[1;33m.\u001b[0m\u001b[0mcompute_statistics_all\u001b[0m\u001b[1;33m(\u001b[0m\u001b[0my_tr\u001b[0m\u001b[1;33m,\u001b[0m \u001b[0mx_tr\u001b[0m\u001b[1;33m,\u001b[0m \u001b[0mw\u001b[0m\u001b[1;33m,\u001b[0m \u001b[0mfunc_type\u001b[0m \u001b[1;33m=\u001b[0m \u001b[0minput_dict\u001b[0m\u001b[1;33m[\u001b[0m\u001b[1;34m'func_type'\u001b[0m\u001b[1;33m]\u001b[0m\u001b[1;33m)\u001b[0m\u001b[1;33m\u001b[0m\u001b[1;33m\u001b[0m\u001b[0m\n\u001b[0;32m     19\u001b[0m     \u001b[0mtest_loss\u001b[0m\u001b[1;33m,\u001b[0m \u001b[0mtest_acc\u001b[0m \u001b[1;33m=\u001b[0m \u001b[0mimplementations\u001b[0m\u001b[1;33m.\u001b[0m\u001b[0mcompute_statistics_all\u001b[0m\u001b[1;33m(\u001b[0m\u001b[0my_te\u001b[0m\u001b[1;33m,\u001b[0m \u001b[0mx_te\u001b[0m\u001b[1;33m,\u001b[0m \u001b[0mw\u001b[0m\u001b[1;33m,\u001b[0m \u001b[0mfunc_type\u001b[0m \u001b[1;33m=\u001b[0m \u001b[0minput_dict\u001b[0m\u001b[1;33m[\u001b[0m\u001b[1;34m'func_type'\u001b[0m\u001b[1;33m]\u001b[0m\u001b[1;33m)\u001b[0m\u001b[1;33m\u001b[0m\u001b[1;33m\u001b[0m\u001b[0m\n",
      "\u001b[1;32mD:\\ML-Project1(1)\\implementations.py\u001b[0m in \u001b[0;36mmean_squared_error_sgd\u001b[1;34m(y, tx, **kwargs)\u001b[0m\n\u001b[0;32m    109\u001b[0m     \u001b[1;32mfor\u001b[0m \u001b[0mn_iter\u001b[0m \u001b[1;32min\u001b[0m \u001b[0mrange\u001b[0m\u001b[1;33m(\u001b[0m\u001b[0mmax_iters\u001b[0m\u001b[1;33m)\u001b[0m\u001b[1;33m:\u001b[0m\u001b[1;33m\u001b[0m\u001b[1;33m\u001b[0m\u001b[0m\n\u001b[0;32m    110\u001b[0m \u001b[1;33m\u001b[0m\u001b[0m\n\u001b[1;32m--> 111\u001b[1;33m         \u001b[1;32mfor\u001b[0m \u001b[0mminibatch_y\u001b[0m\u001b[1;33m,\u001b[0m \u001b[0mminibatch_tx\u001b[0m \u001b[1;32min\u001b[0m \u001b[0mbatch_iter\u001b[0m\u001b[1;33m(\u001b[0m\u001b[0my\u001b[0m\u001b[1;33m,\u001b[0m \u001b[0mtx\u001b[0m\u001b[1;33m,\u001b[0m \u001b[1;36m1\u001b[0m\u001b[1;33m)\u001b[0m\u001b[1;33m:\u001b[0m\u001b[1;33m\u001b[0m\u001b[1;33m\u001b[0m\u001b[0m\n\u001b[0m\u001b[0;32m    112\u001b[0m             \u001b[0mprev_loss\u001b[0m \u001b[1;33m=\u001b[0m \u001b[0mloss\u001b[0m\u001b[1;33m\u001b[0m\u001b[1;33m\u001b[0m\u001b[0m\n\u001b[0;32m    113\u001b[0m             \u001b[0mgrad_w\u001b[0m \u001b[1;33m=\u001b[0m \u001b[0mcompute_gradient\u001b[0m\u001b[1;33m(\u001b[0m\u001b[0mminibatch_y\u001b[0m\u001b[1;33m,\u001b[0m \u001b[0mminibatch_tx\u001b[0m\u001b[1;33m,\u001b[0m \u001b[0mw\u001b[0m\u001b[1;33m)\u001b[0m\u001b[1;33m\u001b[0m\u001b[1;33m\u001b[0m\u001b[0m\n",
      "\u001b[1;32mD:\\ML-Project1(1)\\implementations.py\u001b[0m in \u001b[0;36mbatch_iter\u001b[1;34m(y, tx, batch_size, num_batches, shuffle)\u001b[0m\n\u001b[0;32m     23\u001b[0m         \u001b[0mshuffle_indices\u001b[0m \u001b[1;33m=\u001b[0m \u001b[0mnp\u001b[0m\u001b[1;33m.\u001b[0m\u001b[0mrandom\u001b[0m\u001b[1;33m.\u001b[0m\u001b[0mpermutation\u001b[0m\u001b[1;33m(\u001b[0m\u001b[0mnp\u001b[0m\u001b[1;33m.\u001b[0m\u001b[0marange\u001b[0m\u001b[1;33m(\u001b[0m\u001b[0mdata_size\u001b[0m\u001b[1;33m)\u001b[0m\u001b[1;33m)\u001b[0m\u001b[1;33m\u001b[0m\u001b[1;33m\u001b[0m\u001b[0m\n\u001b[0;32m     24\u001b[0m         \u001b[0mshuffled_y\u001b[0m \u001b[1;33m=\u001b[0m \u001b[0my\u001b[0m\u001b[1;33m[\u001b[0m\u001b[0mshuffle_indices\u001b[0m\u001b[1;33m]\u001b[0m\u001b[1;33m\u001b[0m\u001b[1;33m\u001b[0m\u001b[0m\n\u001b[1;32m---> 25\u001b[1;33m         \u001b[0mshuffled_tx\u001b[0m \u001b[1;33m=\u001b[0m \u001b[0mtx\u001b[0m\u001b[1;33m[\u001b[0m\u001b[0mshuffle_indices\u001b[0m\u001b[1;33m]\u001b[0m\u001b[1;33m\u001b[0m\u001b[1;33m\u001b[0m\u001b[0m\n\u001b[0m\u001b[0;32m     26\u001b[0m     \u001b[1;32melse\u001b[0m\u001b[1;33m:\u001b[0m\u001b[1;33m\u001b[0m\u001b[1;33m\u001b[0m\u001b[0m\n\u001b[0;32m     27\u001b[0m         \u001b[0mshuffled_y\u001b[0m \u001b[1;33m=\u001b[0m \u001b[0my\u001b[0m\u001b[1;33m\u001b[0m\u001b[1;33m\u001b[0m\u001b[0m\n",
      "\u001b[1;31mKeyboardInterrupt\u001b[0m: "
     ]
    }
   ],
   "source": [
    "%autoreload 2\n",
    "\n",
    "group_num = 0\n",
    "max_acc = 0\n",
    "lambdas = np.logspace(-10, 0, 10)\n",
    "gammas = [0.016]\n",
    "iters = [10000]\n",
    "test_func = implementations.mean_squared_error_sgd\n",
    "for clean in [1]:\n",
    "  for poly in [1]:\n",
    "    if(poly):\n",
    "      for degree in [3, 4, 5, 6, 7, 8, 9]:\n",
    "        degree_list = [1] * 3\n",
    "        degree_list[group_num] = degree\n",
    "        for normalize in [1]:\n",
    "          for all_poly in [True]:\n",
    "            group0_x, group0_labels, group1_x, group1_labels, group2_x, group2_labels = \\\n",
    "                          data_utils.process_data(train_data, train_label, clean = clean)\n",
    "            group0_x, group1_x, group2_x = \\\n",
    "                    data_utils.group_poly(group0_x, group1_x, group2_x, degree_list, all_poly)\n",
    "            cur_group = [group0_x, group1_x, group2_x]\n",
    "            cur_labels = [group0_labels, group1_labels, group2_labels]\n",
    "            group_x = cur_group[group_num]\n",
    "            group_label = cur_labels[group_num]\n",
    "            if(normalize):\n",
    "              group_x = data_utils.normalize(group_x)\n",
    "            \n",
    "            for gamma in gammas:\n",
    "              for iteration in iters:\n",
    "                input_dict = {'lambda_':0.00000001, \\\n",
    "                        'initial_w':np.zeros(group_x.shape[1]), \\\n",
    "                        'max_iters':iteration, \\\n",
    "                        'gamma':gamma, \\\n",
    "                        'sgd':False, \\\n",
    "                        'func_type':'linear'}\n",
    "                \n",
    "                loss, acc = cross_validation(group_x, group_label, k_fold_num, test_func, input_dict)\n",
    "                if(acc > max_acc):\n",
    "                  print(f'Found a better scheme. \\\n",
    "                      Clean:{clean}, \\\n",
    "                      Poly:{poly}, \\\n",
    "                      Degree:{degree}, \\\n",
    "                      Normalize: {normalize}, \\\n",
    "                      all_poly:{all_poly}, \\\n",
    "                      gamma:{gamma},\\\n",
    "                      iteration:{iteration},\\\n",
    "                      Acc:{acc}')\n",
    "                  max_acc = acc\n",
    "    else:\n",
    "      for normalize in [0, 1]:\n",
    "        group0_x, group0_labels, group1_x, group1_labels, group2_x, group2_labels = \\\n",
    "                      data_utils.process_data(train_data, train_label, clean = clean)\n",
    "        cur_group = [group0_x, group1_x, group2_x]\n",
    "        cur_labels = [group0_labels, group1_labels, group2_labels]\n",
    "        group_x = cur_group[group_num]\n",
    "        group_label = cur_labels[group_num]\n",
    "        if(normalize):\n",
    "          group_x = data_utils.normalize(group_x)\n",
    "        for gamma in gammas:\n",
    "          for iteration in iters:\n",
    "            input_dict = {'lambda_':0.01, \\\n",
    "                    'initial_w':np.zeros(group_x.shape[1]), \\\n",
    "                    'max_iters':iteration, \\\n",
    "                    'gamma':gamma, \\\n",
    "                    'sgd':False, \\\n",
    "                    'func_type':'linear'}\n",
    "            loss, acc = cross_validation(group_x, group_label, k_fold_num, test_func, input_dict)\n",
    "            if(acc > max_acc):\n",
    "              print(f'Found a better scheme. \\\n",
    "                  Clean:{clean}, \\\n",
    "                  Poly:{poly}, \\\n",
    "                  Degree:No, \\\n",
    "                  Normalize: {normalize}, \\\n",
    "                  gamma:{gamma},\\\n",
    "                  iteration:{iteration},\\\n",
    "                  Acc:{acc}')\n",
    "              max_acc = acc"
   ]
  },
  {
   "cell_type": "code",
   "execution_count": null,
   "metadata": {
    "id": "JcnB3DNpyAic"
   },
   "outputs": [],
   "source": []
  },
  {
   "cell_type": "code",
   "execution_count": null,
   "metadata": {},
   "outputs": [],
   "source": []
  }
 ],
 "metadata": {
  "colab": {
   "authorship_tag": "ABX9TyOHn8XGJDVYYYFA46AcrEgz",
   "collapsed_sections": [],
   "mount_file_id": "1zhX8GShLe2lH7m50f14tR3zG2_ycThQA",
   "provenance": []
  },
  "kernelspec": {
   "display_name": "Python 3.9.7 64-bit",
   "language": "python",
   "name": "python3"
  },
  "language_info": {
   "codemirror_mode": {
    "name": "ipython",
    "version": 3
   },
   "file_extension": ".py",
   "mimetype": "text/x-python",
   "name": "python",
   "nbconvert_exporter": "python",
   "pygments_lexer": "ipython3",
   "version": "3.9.7"
  },
  "vscode": {
   "interpreter": {
    "hash": "11938c6bc6919ae2720b4d5011047913343b08a43b18698fd82dedb0d4417594"
   }
  }
 },
 "nbformat": 4,
 "nbformat_minor": 1
}
