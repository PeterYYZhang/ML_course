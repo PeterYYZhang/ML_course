{
 "cells": [
  {
   "cell_type": "code",
   "execution_count": 1,
   "metadata": {
    "collapsed": true
   },
   "outputs": [],
   "source": [
    "# Import basic libraries\n",
    "import os\n",
    "import numpy as np\n",
    "import pandas as pd\n",
    "import matplotlib.pyplot as plt\n",
    "\n",
    "from data_utils import *\n",
    "from implementations import *"
   ]
  },
  {
   "cell_type": "code",
   "execution_count": 2,
   "outputs": [
    {
     "name": "stdout",
     "output_type": "stream",
     "text": [
      "sample-submission.csv  test.csv               train.csv\r\n"
     ]
    }
   ],
   "source": [
    "# Define some paths\n",
    "root = '../project1/'\n",
    "data = os.path.join(root, 'Data/')\n",
    "train_set_root = os.path.join(data, 'train.csv')\n",
    "test_set_root = os.path.join(data, 'test.csv')\n",
    "%ls data"
   ],
   "metadata": {
    "collapsed": false,
    "pycharm": {
     "name": "#%%\n"
    }
   }
  },
  {
   "cell_type": "markdown",
   "source": [
    "## Data preprocessing\n",
    "#### Load datasets"
   ],
   "metadata": {
    "collapsed": false
   }
  },
  {
   "cell_type": "code",
   "execution_count": 3,
   "outputs": [
    {
     "data": {
      "text/plain": "          Id Prediction  DER_mass_MMC  DER_mass_transverse_met_lep  \\\n0   100000.0          s       138.470                       51.655   \n1   100001.0          b       160.937                       68.768   \n2   100002.0          b           NaN                      162.172   \n3   100003.0          b       143.905                       81.417   \n4   100004.0          b       175.864                       16.915   \n..       ...        ...           ...                          ...   \n95  100095.0          b        98.181                       68.298   \n96  100096.0          s       113.750                       52.067   \n97  100097.0          s       124.575                       34.558   \n98  100098.0          b        77.578                       72.277   \n99  100099.0          b       107.350                       20.354   \n\n    DER_mass_vis  DER_pt_h  DER_deltaeta_jet_jet  DER_mass_jet_jet  \\\n0         97.827    27.980                 0.910           124.711   \n1        103.235    48.146                   NaN               NaN   \n2        125.953    35.635                   NaN               NaN   \n3         80.943     0.414                   NaN               NaN   \n4        134.805    16.405                   NaN               NaN   \n..           ...       ...                   ...               ...   \n95        77.216     1.170                   NaN               NaN   \n96        76.262     1.250                   NaN               NaN   \n97       100.197   161.051                 3.243           324.597   \n98        58.168   153.606                 2.604           370.937   \n99        77.755    89.044                 4.449           564.836   \n\n    DER_prodeta_jet_jet  DER_deltar_tau_lep  ...  PRI_met_phi  PRI_met_sumet  \\\n0                 2.666               3.064  ...       -0.277        258.733   \n1                   NaN               3.473  ...       -1.916        164.546   \n2                   NaN               3.148  ...       -2.186        260.414   \n3                   NaN               3.310  ...        0.060         86.062   \n4                   NaN               3.891  ...       -0.871         53.131   \n..                  ...                 ...  ...          ...            ...   \n95                  NaN               2.918  ...       -3.011         52.207   \n96                  NaN               2.962  ...        0.234         97.737   \n97               -2.626               1.479  ...       -1.611        432.241   \n98               -1.597               0.988  ...        1.565        351.780   \n99               -2.990               2.482  ...        3.134        327.422   \n\n    PRI_jet_num  PRI_jet_leading_pt  PRI_jet_leading_eta  PRI_jet_leading_phi  \\\n0           2.0              67.435                2.150                0.444   \n1           1.0              46.226                0.725                1.158   \n2           1.0              44.251                2.053               -2.028   \n3           0.0                 NaN                  NaN                  NaN   \n4           0.0                 NaN                  NaN                  NaN   \n..          ...                 ...                  ...                  ...   \n95          0.0                 NaN                  NaN                  NaN   \n96          0.0                 NaN                  NaN                  NaN   \n97          3.0              97.160               -1.686                2.858   \n98          2.0             111.656               -0.987               -0.035   \n99          2.0              95.352               -0.825               -0.201   \n\n    PRI_jet_subleading_pt  PRI_jet_subleading_eta  PRI_jet_subleading_phi  \\\n0                  46.062                   1.240                  -2.475   \n1                     NaN                     NaN                     NaN   \n2                     NaN                     NaN                     NaN   \n3                     NaN                     NaN                     NaN   \n4                     NaN                     NaN                     NaN   \n..                    ...                     ...                     ...   \n95                    NaN                     NaN                     NaN   \n96                    NaN                     NaN                     NaN   \n97                 42.808                   1.557                   1.534   \n98                 92.256                   1.617                  -1.433   \n99                 38.135                   3.625                   2.930   \n\n    PRI_jet_all_pt  \n0          113.497  \n1           46.226  \n2           44.251  \n3            0.000  \n4            0.000  \n..             ...  \n95           0.000  \n96           0.000  \n97         171.763  \n98         203.911  \n99         133.488  \n\n[100 rows x 32 columns]",
      "text/html": "<div>\n<style scoped>\n    .dataframe tbody tr th:only-of-type {\n        vertical-align: middle;\n    }\n\n    .dataframe tbody tr th {\n        vertical-align: top;\n    }\n\n    .dataframe thead th {\n        text-align: right;\n    }\n</style>\n<table border=\"1\" class=\"dataframe\">\n  <thead>\n    <tr style=\"text-align: right;\">\n      <th></th>\n      <th>Id</th>\n      <th>Prediction</th>\n      <th>DER_mass_MMC</th>\n      <th>DER_mass_transverse_met_lep</th>\n      <th>DER_mass_vis</th>\n      <th>DER_pt_h</th>\n      <th>DER_deltaeta_jet_jet</th>\n      <th>DER_mass_jet_jet</th>\n      <th>DER_prodeta_jet_jet</th>\n      <th>DER_deltar_tau_lep</th>\n      <th>...</th>\n      <th>PRI_met_phi</th>\n      <th>PRI_met_sumet</th>\n      <th>PRI_jet_num</th>\n      <th>PRI_jet_leading_pt</th>\n      <th>PRI_jet_leading_eta</th>\n      <th>PRI_jet_leading_phi</th>\n      <th>PRI_jet_subleading_pt</th>\n      <th>PRI_jet_subleading_eta</th>\n      <th>PRI_jet_subleading_phi</th>\n      <th>PRI_jet_all_pt</th>\n    </tr>\n  </thead>\n  <tbody>\n    <tr>\n      <th>0</th>\n      <td>100000.0</td>\n      <td>s</td>\n      <td>138.470</td>\n      <td>51.655</td>\n      <td>97.827</td>\n      <td>27.980</td>\n      <td>0.910</td>\n      <td>124.711</td>\n      <td>2.666</td>\n      <td>3.064</td>\n      <td>...</td>\n      <td>-0.277</td>\n      <td>258.733</td>\n      <td>2.0</td>\n      <td>67.435</td>\n      <td>2.150</td>\n      <td>0.444</td>\n      <td>46.062</td>\n      <td>1.240</td>\n      <td>-2.475</td>\n      <td>113.497</td>\n    </tr>\n    <tr>\n      <th>1</th>\n      <td>100001.0</td>\n      <td>b</td>\n      <td>160.937</td>\n      <td>68.768</td>\n      <td>103.235</td>\n      <td>48.146</td>\n      <td>NaN</td>\n      <td>NaN</td>\n      <td>NaN</td>\n      <td>3.473</td>\n      <td>...</td>\n      <td>-1.916</td>\n      <td>164.546</td>\n      <td>1.0</td>\n      <td>46.226</td>\n      <td>0.725</td>\n      <td>1.158</td>\n      <td>NaN</td>\n      <td>NaN</td>\n      <td>NaN</td>\n      <td>46.226</td>\n    </tr>\n    <tr>\n      <th>2</th>\n      <td>100002.0</td>\n      <td>b</td>\n      <td>NaN</td>\n      <td>162.172</td>\n      <td>125.953</td>\n      <td>35.635</td>\n      <td>NaN</td>\n      <td>NaN</td>\n      <td>NaN</td>\n      <td>3.148</td>\n      <td>...</td>\n      <td>-2.186</td>\n      <td>260.414</td>\n      <td>1.0</td>\n      <td>44.251</td>\n      <td>2.053</td>\n      <td>-2.028</td>\n      <td>NaN</td>\n      <td>NaN</td>\n      <td>NaN</td>\n      <td>44.251</td>\n    </tr>\n    <tr>\n      <th>3</th>\n      <td>100003.0</td>\n      <td>b</td>\n      <td>143.905</td>\n      <td>81.417</td>\n      <td>80.943</td>\n      <td>0.414</td>\n      <td>NaN</td>\n      <td>NaN</td>\n      <td>NaN</td>\n      <td>3.310</td>\n      <td>...</td>\n      <td>0.060</td>\n      <td>86.062</td>\n      <td>0.0</td>\n      <td>NaN</td>\n      <td>NaN</td>\n      <td>NaN</td>\n      <td>NaN</td>\n      <td>NaN</td>\n      <td>NaN</td>\n      <td>0.000</td>\n    </tr>\n    <tr>\n      <th>4</th>\n      <td>100004.0</td>\n      <td>b</td>\n      <td>175.864</td>\n      <td>16.915</td>\n      <td>134.805</td>\n      <td>16.405</td>\n      <td>NaN</td>\n      <td>NaN</td>\n      <td>NaN</td>\n      <td>3.891</td>\n      <td>...</td>\n      <td>-0.871</td>\n      <td>53.131</td>\n      <td>0.0</td>\n      <td>NaN</td>\n      <td>NaN</td>\n      <td>NaN</td>\n      <td>NaN</td>\n      <td>NaN</td>\n      <td>NaN</td>\n      <td>0.000</td>\n    </tr>\n    <tr>\n      <th>...</th>\n      <td>...</td>\n      <td>...</td>\n      <td>...</td>\n      <td>...</td>\n      <td>...</td>\n      <td>...</td>\n      <td>...</td>\n      <td>...</td>\n      <td>...</td>\n      <td>...</td>\n      <td>...</td>\n      <td>...</td>\n      <td>...</td>\n      <td>...</td>\n      <td>...</td>\n      <td>...</td>\n      <td>...</td>\n      <td>...</td>\n      <td>...</td>\n      <td>...</td>\n      <td>...</td>\n    </tr>\n    <tr>\n      <th>95</th>\n      <td>100095.0</td>\n      <td>b</td>\n      <td>98.181</td>\n      <td>68.298</td>\n      <td>77.216</td>\n      <td>1.170</td>\n      <td>NaN</td>\n      <td>NaN</td>\n      <td>NaN</td>\n      <td>2.918</td>\n      <td>...</td>\n      <td>-3.011</td>\n      <td>52.207</td>\n      <td>0.0</td>\n      <td>NaN</td>\n      <td>NaN</td>\n      <td>NaN</td>\n      <td>NaN</td>\n      <td>NaN</td>\n      <td>NaN</td>\n      <td>0.000</td>\n    </tr>\n    <tr>\n      <th>96</th>\n      <td>100096.0</td>\n      <td>s</td>\n      <td>113.750</td>\n      <td>52.067</td>\n      <td>76.262</td>\n      <td>1.250</td>\n      <td>NaN</td>\n      <td>NaN</td>\n      <td>NaN</td>\n      <td>2.962</td>\n      <td>...</td>\n      <td>0.234</td>\n      <td>97.737</td>\n      <td>0.0</td>\n      <td>NaN</td>\n      <td>NaN</td>\n      <td>NaN</td>\n      <td>NaN</td>\n      <td>NaN</td>\n      <td>NaN</td>\n      <td>0.000</td>\n    </tr>\n    <tr>\n      <th>97</th>\n      <td>100097.0</td>\n      <td>s</td>\n      <td>124.575</td>\n      <td>34.558</td>\n      <td>100.197</td>\n      <td>161.051</td>\n      <td>3.243</td>\n      <td>324.597</td>\n      <td>-2.626</td>\n      <td>1.479</td>\n      <td>...</td>\n      <td>-1.611</td>\n      <td>432.241</td>\n      <td>3.0</td>\n      <td>97.160</td>\n      <td>-1.686</td>\n      <td>2.858</td>\n      <td>42.808</td>\n      <td>1.557</td>\n      <td>1.534</td>\n      <td>171.763</td>\n    </tr>\n    <tr>\n      <th>98</th>\n      <td>100098.0</td>\n      <td>b</td>\n      <td>77.578</td>\n      <td>72.277</td>\n      <td>58.168</td>\n      <td>153.606</td>\n      <td>2.604</td>\n      <td>370.937</td>\n      <td>-1.597</td>\n      <td>0.988</td>\n      <td>...</td>\n      <td>1.565</td>\n      <td>351.780</td>\n      <td>2.0</td>\n      <td>111.656</td>\n      <td>-0.987</td>\n      <td>-0.035</td>\n      <td>92.256</td>\n      <td>1.617</td>\n      <td>-1.433</td>\n      <td>203.911</td>\n    </tr>\n    <tr>\n      <th>99</th>\n      <td>100099.0</td>\n      <td>b</td>\n      <td>107.350</td>\n      <td>20.354</td>\n      <td>77.755</td>\n      <td>89.044</td>\n      <td>4.449</td>\n      <td>564.836</td>\n      <td>-2.990</td>\n      <td>2.482</td>\n      <td>...</td>\n      <td>3.134</td>\n      <td>327.422</td>\n      <td>2.0</td>\n      <td>95.352</td>\n      <td>-0.825</td>\n      <td>-0.201</td>\n      <td>38.135</td>\n      <td>3.625</td>\n      <td>2.930</td>\n      <td>133.488</td>\n    </tr>\n  </tbody>\n</table>\n<p>100 rows × 32 columns</p>\n</div>"
     },
     "execution_count": 3,
     "metadata": {},
     "output_type": "execute_result"
    }
   ],
   "source": [
    "data = pd.read_csv(train_set_root)\n",
    "for col_name in data.columns:\n",
    "     data.loc[data[col_name] == -999.0,col_name]= np.nan\n",
    "# data = data.dropna(how='any', axis=0)\n",
    "data.head(100)"
   ],
   "metadata": {
    "collapsed": false,
    "pycharm": {
     "name": "#%%\n"
    }
   }
  },
  {
   "cell_type": "code",
   "execution_count": 3,
   "outputs": [],
   "source": [],
   "metadata": {
    "collapsed": false,
    "pycharm": {
     "name": "#%%\n"
    }
   }
  },
  {
   "cell_type": "code",
   "execution_count": 4,
   "outputs": [
    {
     "data": {
      "text/plain": "(array([99913.,     0.,     0., 77544.,     0.,     0., 50379.,     0.,\n            0., 22164.]),\n array([0. , 0.3, 0.6, 0.9, 1.2, 1.5, 1.8, 2.1, 2.4, 2.7, 3. ]),\n <BarContainer object of 10 artists>)"
     },
     "execution_count": 4,
     "metadata": {},
     "output_type": "execute_result"
    },
    {
     "data": {
      "text/plain": "<Figure size 640x480 with 1 Axes>",
      "image/png": "[encoded data removed]"
     },
     "metadata": {},
     "output_type": "display_data"
    }
   ],
   "source": [
    "plt.hist(data['PRI_jet_num'])# data imbalance"
   ],
   "metadata": {
    "collapsed": false,
    "pycharm": {
     "name": "#%%\n"
    }
   }
  },
  {
   "cell_type": "markdown",
   "source": [
    "## Begins here"
   ],
   "metadata": {
    "collapsed": false
   }
  },
  {
   "cell_type": "code",
   "execution_count": 25,
   "outputs": [],
   "source": [
    "train_data, train_label = load_data(train_set_root)\n",
    "train_data = standardize(train_data)"
   ],
   "metadata": {
    "collapsed": false,
    "pycharm": {
     "name": "#%%\n"
    }
   }
  },
  {
   "cell_type": "code",
   "execution_count": 23,
   "outputs": [],
   "source": [
    "x = train_data.copy()\n",
    "feature_idx_dict = {0: [0, 1, 2, 3, 7, 8, 9, 10, 11, 13, 14, 15, 16, 17, 18, 19, 20, 21],\n",
    "                        1: [0, 1, 2, 3, 7, 8, 9, 10, 11, 13, 14, 15, 16, 17, 18, 19, 20, 21, 23, 24, 25, 29],\n",
    "                        2: [0, 1, 2, 3, 4, 5, 6, 7, 8, 9, 10, 11, 12, 13, 14, 15, 16, 17, 18, 19, 20, 21, 23, 24, 25,\n",
    "                            26, 27, 28, 29]}\n",
    "jetnum = 22\n",
    "\n",
    "group0 = x[np.where(x[:, jetnum] == 0)]\n",
    "group0_x = group0[:, feature_idx_dict[0]]\n",
    "\n",
    "group1 = x[np.where(x[:, jetnum] == 1)]\n",
    "group1_x = group1[:, feature_idx_dict[1]]\n",
    "\n",
    "group2 = x[np.where(x[:, jetnum] >= 2)]\n",
    "group2_x = group2[:, feature_idx_dict[2]]\n"
   ],
   "metadata": {
    "collapsed": false,
    "pycharm": {
     "name": "#%%\n"
    }
   }
  },
  {
   "cell_type": "code",
   "execution_count": 24,
   "outputs": [
    {
     "data": {
      "text/plain": "array([], shape=(0, 30), dtype=float64)"
     },
     "execution_count": 24,
     "metadata": {},
     "output_type": "execute_result"
    }
   ],
   "source": [
    "group1"
   ],
   "metadata": {
    "collapsed": false,
    "pycharm": {
     "name": "#%%\n"
    }
   }
  },
  {
   "cell_type": "code",
   "execution_count": 7,
   "outputs": [
    {
     "data": {
      "text/plain": "array([ 1., -1., -1., ...,  1., -1., -1.])"
     },
     "execution_count": 7,
     "metadata": {},
     "output_type": "execute_result"
    }
   ],
   "source": [
    "train_label"
   ],
   "metadata": {
    "collapsed": false,
    "pycharm": {
     "name": "#%%\n"
    }
   }
  },
  {
   "cell_type": "code",
   "execution_count": 8,
   "outputs": [],
   "source": [
    "import data_utils\n",
    "def cross_validation(train_data, train_label, k_fold, eval_func, input_dict):\n",
    "  data_num = train_data.shape[0]\n",
    "  data_dim = train_data.shape[1]\n",
    "  fold_part_idx = data_utils.k_fold(data_num, k_fold)\n",
    "\n",
    "  loss_list = []\n",
    "  acc_list = []\n",
    "  for k in range(k_fold):\n",
    "    cur_train_idx = np.concatenate([fold_part_idx[:k, :], fold_part_idx[k+1:, :]], axis = 0)\n",
    "    cur_train_idx = cur_train_idx.flatten()\n",
    "    cur_test_idx = fold_part_idx[k, :]\n",
    "    x_tr = train_data[cur_train_idx, :]\n",
    "    x_te = train_data[cur_test_idx, :]\n",
    "    y_tr = train_label[cur_train_idx]\n",
    "    # print(np.sum(y_tr==1)/len(y_tr))\n",
    "    y_te = train_label[cur_test_idx]\n",
    "\n",
    "    lambda_ = input_dict.get('lambda_')\n",
    "    initial_w = input_dict.get('initial_w')\n",
    "    max_iters = input_dict.get('max_iters')\n",
    "    gamma = input_dict.get('gamma')\n",
    "    sgd = input_dict.get('sgd')\n",
    "    func_type = input_dict.get('func_type')\n",
    "\n",
    "    w, loss = eval_func(y_tr, x_tr, lambda_, initial_w, max_iters, gamma, sgd)\n",
    "    _, train_acc = compute_statistics_all(y_tr, x_tr, w, func_type = input_dict['func_type'])\n",
    "    test_loss, test_acc = compute_statistics_all(y_te, x_te, w, func_type = input_dict['func_type'])\n",
    "    loss_list.append(test_loss)\n",
    "    acc_list.append(test_acc)\n",
    "  return np.mean(loss_list), np.mean(acc_list)"
   ],
   "metadata": {
    "collapsed": false,
    "pycharm": {
     "name": "#%%\n"
    }
   }
  },
  {
   "cell_type": "code",
   "execution_count": 8,
   "outputs": [],
   "source": [],
   "metadata": {
    "collapsed": false,
    "pycharm": {
     "name": "#%%\n"
    }
   }
  },
  {
   "cell_type": "markdown",
   "source": [
    "The cross validation part"
   ],
   "metadata": {
    "collapsed": false
   }
  },
  {
   "cell_type": "markdown",
   "source": [
    "## Test for the ```reg_logistic_regression```"
   ],
   "metadata": {
    "collapsed": false
   }
  },
  {
   "cell_type": "code",
   "execution_count": 9,
   "outputs": [],
   "source": [
    "lambdas = np.logspace(-10, 0, 10)\n",
    "gammas = [0.015]\n",
    "iters = [1000]\n",
    "test_func = reg_logistic_regression\n",
    "cleans = [0, 1]\n",
    "polys = [1]\n",
    "degrees = [9]\n",
    "normalizes = [0, 1]\n",
    "all_polys = [True, False]"
   ],
   "metadata": {
    "collapsed": false,
    "pycharm": {
     "name": "#%%\n"
    }
   }
  },
  {
   "cell_type": "code",
   "execution_count": 9,
   "outputs": [],
   "source": [],
   "metadata": {
    "collapsed": false,
    "pycharm": {
     "name": "#%%\n"
    }
   }
  },
  {
   "cell_type": "code",
   "execution_count": 10,
   "outputs": [],
   "source": [
    "def compute_statistics_all(y, tx, w, func_type='linear'):\n",
    "    \"\"\"Compute Loss and Accuracy after training.\n",
    "\n",
    "    Args:\n",
    "        y: numpy array of shape=(N, )\n",
    "        tx: numpy array of shape=(N,2)\n",
    "        w: numpy arrays of shape (2, ), final weight\n",
    "        func_type: type of model used, linear for linear regression and logistic for logistic regression.\n",
    "\n",
    "    Returns:\n",
    "        loss: scalar\n",
    "        acc: classification accuracy\n",
    "    \"\"\"\n",
    "    data_num = y.shape[0]\n",
    "\n",
    "    if (func_type == 'linear'):\n",
    "        model_output = np.dot(tx, w)\n",
    "        e_mat = y - model_output\n",
    "        loss = 0.5 * np.dot(e_mat.T, e_mat) / data_num\n",
    "        model_output[np.where(model_output > 0)] = 1\n",
    "        model_output[np.where(model_output <= 0)] = -1\n",
    "    elif (func_type == 'logistic'):\n",
    "        model_output = sigmoid(np.dot(tx, w))\n",
    "        loss = -np.dot(y, np.log(model_output + eps)) - np.dot((1 - y).T, np.log(1 - model_output + eps))\n",
    "        model_output[np.where(model_output > 0.5)] = 1\n",
    "        model_output[np.where(model_output <= 0.5)] = 0\n",
    "\n",
    "    acc = np.sum(model_output == y) / data_num\n",
    "    return loss, acc"
   ],
   "metadata": {
    "collapsed": false,
    "pycharm": {
     "name": "#%%\n"
    }
   }
  },
  {
   "cell_type": "code",
   "execution_count": 11,
   "outputs": [],
   "source": [
    "k_fold_num = 5\n",
    "group_num = 2"
   ],
   "metadata": {
    "collapsed": false,
    "pycharm": {
     "name": "#%%\n"
    }
   }
  },
  {
   "cell_type": "code",
   "execution_count": 12,
   "outputs": [],
   "source": [
    "train_label_reg = train_label.copy()\n",
    "train_label_reg[train_label_reg == -1] = 0"
   ],
   "metadata": {
    "collapsed": false,
    "pycharm": {
     "name": "#%%\n"
    }
   }
  },
  {
   "cell_type": "code",
   "execution_count": 13,
   "outputs": [],
   "source": [
    "lambdas = np.logspace(-10, 0, 10)\n",
    "gammas = [0.05]\n",
    "max_iters = [1000]\n",
    "test_func = reg_logistic_regression\n",
    "cleans = [0, 1]\n",
    "polys = [1]\n",
    "degrees = [12,11,10,9,8]\n",
    "normalizes = [0, 1]\n",
    "all_polys = [True, False]"
   ],
   "metadata": {
    "collapsed": false,
    "pycharm": {
     "name": "#%%\n"
    }
   }
  },
  {
   "cell_type": "markdown",
   "source": [
    "linear regression gd/sgd      try gamma try max_iter  try degree\n",
    "ridge regression: lambda      try degree\n"
   ],
   "metadata": {
    "collapsed": false
   }
  },
  {
   "cell_type": "code",
   "execution_count": null,
   "outputs": [],
   "source": [
    "import warnings\n",
    "warnings.filterwarnings(\"ignore\")\n",
    "num_iter_ = 0\n",
    "group_num = 0\n",
    "max_acc = 0\n",
    "print(train_label_reg[:5])\n",
    "for clean in cleans:\n",
    "  for poly in polys:\n",
    "    if poly:\n",
    "      for gamma in gammas:\n",
    "        for degree in degrees:\n",
    "          degree_list = [1] * 3\n",
    "          degree_list[group_num] = degree\n",
    "          for normalize_ in normalizes:\n",
    "            for all_poly in all_polys:\n",
    "              group0_x, group0_labels, group1_x, group1_labels, group2_x, group2_labels = \\\n",
    "                            data_utils.process_data(train_data, train_label_reg, clean = clean)\n",
    "              group0_x, group1_x, group2_x = \\\n",
    "                      data_utils.group_poly(group0_x, group1_x, group2_x, degree_list, all_poly)\n",
    "              cur_group = [group0_x, group1_x, group2_x]\n",
    "              cur_labels = [group0_labels, group1_labels, group2_labels]\n",
    "              group_x = cur_group[group_num]\n",
    "              group_label = cur_labels[group_num]\n",
    "              if(normalize_):\n",
    "                group_x = data_utils.normalize(group_x)\n",
    "\n",
    "              input_dict = {'lambda_':0, \\\n",
    "                      'initial_w':np.zeros(group_x.shape[1]), \\\n",
    "                      'max_iters':8000, \\\n",
    "                      'gamma':gamma, \\\n",
    "                      'sgd':False, \\\n",
    "                      'func_type':'logistic'}\n",
    "              loss, acc = cross_validation(group_x, group_label, k_fold_num, test_func, input_dict)\n",
    "              print(f'For this combination scheme.\\iter:{num_iter_} \\\n",
    "                    Clean:{clean}, \\\n",
    "                    Poly:{poly}, \\\n",
    "                    Degree:{degree}, \\\n",
    "                    Normalize: {normalize_}, \\\n",
    "                    all_poly:{all_poly}, \\\n",
    "                    Acc:{acc}, Gamma:{gamma}')\n",
    "              if(acc > max_acc):\n",
    "                print(f'Found a better scheme.\\ iter:{num_iter_} \\ Clean:{clean}, \\\n",
    "                    Poly:{poly}, \\\n",
    "                    Degree:{degree}, \\\n",
    "                    Normalize: {normalize_}, \\\n",
    "                    all_poly:{all_poly}, \\\n",
    "                    Acc:{acc}, Gamma:{gamma}')\n",
    "                max_acc = acc\n",
    "              num_iter_ = num_iter_ + 1\n",
    "    else:\n",
    "      for gamma in gammas:\n",
    "        for normalize_ in normalizes:\n",
    "          group0_x, group0_labels, group1_x, group1_labels, group2_x, group2_labels = \\\n",
    "                        data_utils.process_data(train_data, train_label_reg, clean = clean)\n",
    "          cur_group = [group0_x, group1_x, group2_x]\n",
    "          cur_labels = [group0_labels, group1_labels, group2_labels]\n",
    "          group_x = cur_group[group_num]\n",
    "          group_label = cur_labels[group_num]\n",
    "          if(normalize_):\n",
    "            group_x = data_utils.normalize(group_x)\n",
    "          input_dict = {'lambda_':0, \\\n",
    "                  'initial_w':np.zeros(group_x.shape[1]), \\\n",
    "                  'max_iters':10000, \\\n",
    "                  'gamma':gamma, \\\n",
    "                  'sgd':False, \\\n",
    "                  'func_type':'logistic'}\n",
    "          try:\n",
    "            loss, acc = cross_validation(group_x, group_label, k_fold_num, test_func, input_dict)\n",
    "          except:\n",
    "            print(f'Wrong. \\\n",
    "                Clean:{clean}, \\\n",
    "                Poly:{poly}, \\\n",
    "                Normalize: {normalize_}')\n",
    "            continue\n",
    "          print(f'For this combination scheme.\\iter:{num_iter_} \\\n",
    "                  Clean:{clean}, \\\n",
    "                  Poly:{poly}, \\\n",
    "                  Degree:{degree}, \\\n",
    "                  Normalize: {normalize_}, \\\n",
    "                  all_poly:{all_poly}, \\\n",
    "                  Acc:{acc}, Gamma:{gamma}')\n",
    "          if(acc > max_acc):\n",
    "            print(f'Found a better scheme. \\iter:{num_iter_} \\\n",
    "                Clean:{clean}, \\\n",
    "                Poly:{poly}, \\\n",
    "                Normalize: {normalize_}, \\\n",
    "                Acc:{acc}, gamma:{gamma}')\n",
    "            max_acc = acc\n",
    "          num_iter_ = num_iter_ + 1"
   ],
   "metadata": {
    "collapsed": false,
    "pycharm": {
     "name": "#%%\n",
     "is_executing": true
    }
   }
  },
  {
   "cell_type": "code",
   "execution_count": null,
   "outputs": [],
   "source": [],
   "metadata": {
    "collapsed": false,
    "pycharm": {
     "name": "#%%\n"
    }
   }
  },
  {
   "cell_type": "code",
   "execution_count": null,
   "outputs": [],
   "source": [],
   "metadata": {
    "collapsed": false,
    "pycharm": {
     "name": "#%%\n"
    }
   }
  }
 ],
 "metadata": {
  "kernelspec": {
   "display_name": "Python 3",
   "language": "python",
   "name": "python3"
  },
  "language_info": {
   "codemirror_mode": {
    "name": "ipython",
    "version": 2
   },
   "file_extension": ".py",
   "mimetype": "text/x-python",
   "name": "python",
   "nbconvert_exporter": "python",
   "pygments_lexer": "ipython2",
   "version": "2.7.6"
  }
 },
 "nbformat": 4,
 "nbformat_minor": 0
}